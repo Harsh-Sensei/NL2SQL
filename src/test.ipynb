{
 "cells": [
  {
   "cell_type": "code",
   "execution_count": 3,
   "metadata": {},
   "outputs": [
    {
     "data": {
      "text/plain": [
       "tensor([1., 2., 3.], dtype=torch.float64)"
      ]
     },
     "execution_count": 3,
     "metadata": {},
     "output_type": "execute_result"
    }
   ],
   "source": [
    "import torch\n",
    "import torch.nn as nn\n"
   ]
  },
  {
   "cell_type": "code",
   "execution_count": null,
   "metadata": {},
   "outputs": [],
   "source": [
    "class SelfAttention(nn.Module):\n",
    "    def __init__(self, embed_size, heads):\n",
    "        super(SelfAttention, self).__init__()\n",
    "        self.embed_size = embed_size\n",
    "        self.heads = heads\n",
    "        self.head_dim = embed_size // heads\n",
    "\n",
    "        assert (self.head_dim*self.heads == self.embed_size), \"Embed size not div by heads\"\n",
    "\n",
    "        self.values = nn.Linear(self.head_dim, self.head_dim, bias=False)\n",
    "        self.keys = nn.Linear(self.head_dim, self.head_dim, bias=False)\n",
    "        self.queries = nn.Linear(self.head_dim, self.head_dim, bias=False)\n",
    "        self.fc_out = nn.Linear(embed_size, embed_size)\n",
    "\n",
    "    def forward(self, values, keys, queries, mask):\n",
    "        N = queries.shape[0]\n",
    "        # shape querys = N, query_len(sentence length, words), embed_size \n",
    "        # shape keys = N, key_len(sentence length, words), embed_size \n",
    "        # shape values = N, value_len(sentence length, words), embed_size \n",
    "        value_len, key_len, query_len = values.shape[1], keys.shape[1], queries.shape[1]\n",
    "\n",
    "        values = values.reshape(N, value_len, self.heads, self.head_dim)\n",
    "        keys = keys.reshape(N, value_len, self.heads, self.head_dim)\n",
    "        queries = queries.reshape(N, value_len, self.heads, self.head_dim)\n",
    "\n",
    "        # dot product (energy), the quesry matrix is multiplied by transpose of key matrix\n",
    "        energy = torch.einsum(\"nqhd,nkhd->nhqk\", [queries, keys])\n",
    "\n",
    "        if mask is not None:\n",
    "            energy = energy.masked_fill(mask==0, float(\"-1e20\")) # using very low number to denote negative inf\n",
    "        \n",
    "        attention = torch.softmax(energy/(self.embed_size**0.5), dim=3)\n",
    "\n",
    "        out = torch.einsum(\"nvhd,nhqk\")\n"
   ]
  }
 ],
 "metadata": {
  "interpreter": {
   "hash": "d1018a0679812071d7e1af58c083888bc5e71aa3c67a82bd189937f7477fee8b"
  },
  "kernelspec": {
   "display_name": "Python 3.8.10 ('descartes-venv': venv)",
   "language": "python",
   "name": "python3"
  },
  "language_info": {
   "codemirror_mode": {
    "name": "ipython",
    "version": 3
   },
   "file_extension": ".py",
   "mimetype": "text/x-python",
   "name": "python",
   "nbconvert_exporter": "python",
   "pygments_lexer": "ipython3",
   "version": "3.8.10"
  },
  "orig_nbformat": 4
 },
 "nbformat": 4,
 "nbformat_minor": 2
}
