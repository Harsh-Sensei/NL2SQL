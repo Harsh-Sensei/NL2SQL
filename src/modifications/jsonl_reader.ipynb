{
 "cells": [
  {
   "cell_type": "code",
   "execution_count": 35,
   "metadata": {},
   "outputs": [],
   "source": [
    "import json"
   ]
  },
  {
   "cell_type": "code",
   "execution_count": 36,
   "metadata": {},
   "outputs": [
    {
     "name": "stdout",
     "output_type": "stream",
     "text": [
      "['id', 'header', 'types', 'rows', 'name']\n",
      "18585\n"
     ]
    }
   ],
   "source": [
    "\n",
    "if __name__ == '__main__': \n",
    "    \n",
    "    with open(\"train.tables.jsonl\") as f:\n",
    "        data = [json.loads(line) for line in f]\n",
    "    print(list(data[1212].keys()))\n",
    "    print(len(data))\n",
    "    "
   ]
  },
  {
   "cell_type": "code",
   "execution_count": 37,
   "metadata": {},
   "outputs": [],
   "source": [
    "f = open(\"./spider/output.json\")\n",
    "new_data = json.load(f)\n"
   ]
  },
  {
   "cell_type": "code",
   "execution_count": 38,
   "metadata": {},
   "outputs": [
    {
     "name": "stdout",
     "output_type": "stream",
     "text": [
      "dict_keys(['db_id', 'query', 'query_toks', 'query_toks_no_value', 'question', 'question_toks', 'sql'])\n"
     ]
    }
   ],
   "source": [
    "print(new_data[0].keys())"
   ]
  },
  {
   "cell_type": "code",
   "execution_count": 46,
   "metadata": {},
   "outputs": [
    {
     "name": "stdout",
     "output_type": "stream",
     "text": [
      "farm\n"
     ]
    }
   ],
   "source": [
    "print(new_data[10][\"db_id\"])"
   ]
  },
  {
   "cell_type": "code",
   "execution_count": 41,
   "metadata": {},
   "outputs": [],
   "source": [
    "f_tables = open(\"./spider/tables.json\", \"r\")\n",
    "table_data = json.load(f_tables)"
   ]
  },
  {
   "cell_type": "code",
   "execution_count": 48,
   "metadata": {},
   "outputs": [
    {
     "name": "stdout",
     "output_type": "stream",
     "text": [
      "htg and mikasa\n"
     ]
    }
   ],
   "source": [
    "for idx, elem in enumerate(table_data):\n",
    "    if elem[\"db_id\"] == \"farm\":\n",
    "        print(\"htg and mikasa\")\n",
    "        print(\"idx\")\n",
    "        print(elem)"
   ]
  }
 ],
 "metadata": {
  "interpreter": {
   "hash": "369f2c481f4da34e4445cda3fffd2e751bd1c4d706f27375911949ba6bb62e1c"
  },
  "kernelspec": {
   "display_name": "Python 3.10.0 64-bit",
   "language": "python",
   "name": "python3"
  },
  "language_info": {
   "codemirror_mode": {
    "name": "ipython",
    "version": 3
   },
   "file_extension": ".py",
   "mimetype": "text/x-python",
   "name": "python",
   "nbconvert_exporter": "python",
   "pygments_lexer": "ipython3",
   "version": "3.10.0"
  },
  "orig_nbformat": 4
 },
 "nbformat": 4,
 "nbformat_minor": 2
}
